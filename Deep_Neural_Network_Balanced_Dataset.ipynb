{
 "cells": [
  {
   "cell_type": "code",
   "execution_count": 1,
   "metadata": {},
   "outputs": [
    {
     "name": "stderr",
     "output_type": "stream",
     "text": [
      "Using TensorFlow backend.\n"
     ]
    }
   ],
   "source": [
    "import pandas as pd\n",
    "import numpy as np\n",
    "from sklearn.model_selection import train_test_split\n",
    "from sklearn.preprocessing import LabelEncoder, normalize\n",
    "import keras\n",
    "from keras.models import Sequential\n",
    "from keras.layers.advanced_activations import LeakyReLU\n",
    "from keras.layers import Dense, Dropout\n",
    "from keras.metrics import CategoricalAccuracy, TruePositives, TrueNegatives, FalsePositives, FalseNegatives"
   ]
  },
  {
   "cell_type": "code",
   "execution_count": 2,
   "metadata": {},
   "outputs": [],
   "source": [
    "df = pd.read_csv('Balanced_Dataset.csv')"
   ]
  },
  {
   "cell_type": "code",
   "execution_count": 3,
   "metadata": {},
   "outputs": [],
   "source": [
    "del df['Unnamed: 0']"
   ]
  },
  {
   "cell_type": "code",
   "execution_count": 4,
   "metadata": {},
   "outputs": [
    {
     "data": {
      "text/plain": [
       "(28730, 21)"
      ]
     },
     "execution_count": 4,
     "metadata": {},
     "output_type": "execute_result"
    }
   ],
   "source": [
    "df.shape"
   ]
  },
  {
   "cell_type": "markdown",
   "metadata": {},
   "source": [
    "## This time the data is balanced"
   ]
  },
  {
   "cell_type": "code",
   "execution_count": 6,
   "metadata": {},
   "outputs": [
    {
     "data": {
      "text/plain": [
       "BENIGN       14365\n",
       "DrDoS_NTP    14365\n",
       "Name:  Label, dtype: int64"
      ]
     },
     "execution_count": 6,
     "metadata": {},
     "output_type": "execute_result"
    }
   ],
   "source": [
    "df[' Label'].value_counts()"
   ]
  },
  {
   "cell_type": "code",
   "execution_count": 7,
   "metadata": {},
   "outputs": [],
   "source": [
    "X = normalize( ( df.loc[:, df.columns != ' Label'] ).values )\n",
    "y = df[' Label']\n",
    "label_encoder = LabelEncoder()\n",
    "y = y.map(lambda value : 0 if value == 'BENIGN' else 1)\n",
    "y = keras.utils.to_categorical(y, num_classes=y.nunique())"
   ]
  },
  {
   "cell_type": "code",
   "execution_count": 8,
   "metadata": {},
   "outputs": [],
   "source": [
    "random_state = 1\n",
    "X_train, X_test, y_train, y_test = train_test_split(X, y, test_size=0.33, shuffle=True, stratify=y, random_state=random_state)"
   ]
  },
  {
   "cell_type": "code",
   "execution_count": 9,
   "metadata": {},
   "outputs": [
    {
     "name": "stdout",
     "output_type": "stream",
     "text": [
      "Baseline: accuracy: 97.29%: loss: 7.934553\n",
      "\tTrue Positive Rate: 0.4864465773652568 (9224.0)\n",
      "\tTrue Negative Rate: 0.4864465773652568 (9224.0)\n",
      "\tFalse Positive Rate: 0.01355342263474317 (257.0)\n",
      "\tFalse Negative Rate: 0.01355342263474317 (257.0)\n"
     ]
    }
   ],
   "source": [
    "accuracy = CategoricalAccuracy() \n",
    "tp = TruePositives()\n",
    "tn = TrueNegatives()\n",
    "fp = FalsePositives()\n",
    "fn = FalseNegatives()\n",
    "metrics = [accuracy, tp, tn, fp, fn]\n",
    "\n",
    "model = Sequential()\n",
    "model.add(Dense(64, input_shape=(len(df.columns) - 1 ,))) \n",
    "model.add(LeakyReLU(alpha=0.3))\n",
    "model.add(Dense(128))\n",
    "model.add(LeakyReLU(alpha=0.3))\n",
    "model.add(Dense(32))\n",
    "model.add(LeakyReLU(alpha=0.3))\n",
    "model.add(Dense(8))\n",
    "model.add(LeakyReLU(alpha=0.3))\n",
    "model.add(Dense(2, activation='softmax'))\n",
    "\n",
    "model.compile(optimizer='adam', loss='categorical_crossentropy', metrics=metrics)\n",
    "\n",
    "model.fit(x=X_train, y=y_train, epochs=20, batch_size=512, verbose=0, validation_data=(X_test, y_test))\n",
    "\n",
    "scores = model.evaluate(X_test, y_test, verbose=2)\n",
    "acc, loss, tpn, tnn, fpn, fnn = scores[1]*100, scores[0]*100, scores[2], scores[3], scores[4], scores[5]\n",
    "totaln = tpn + tnn + fpn + fnn\n",
    "print('Baseline: accuracy: {:.2f}%: loss: {:2f}'.format(acc, loss))\n",
    "print('\\tTrue Positive Rate: {} ({})'.format(tpn/totaln, tpn))\n",
    "print('\\tTrue Negative Rate: {} ({})'.format(tnn/totaln, tnn))\n",
    "print('\\tFalse Positive Rate: {} ({})'.format(fpn/totaln, fpn))\n",
    "print('\\tFalse Negative Rate: {} ({})'.format(fnn/totaln, fnn))"
   ]
  },
  {
   "cell_type": "code",
   "execution_count": null,
   "metadata": {},
   "outputs": [],
   "source": []
  }
 ],
 "metadata": {
  "kernelspec": {
   "display_name": "Python 3",
   "language": "python",
   "name": "python3"
  },
  "language_info": {
   "codemirror_mode": {
    "name": "ipython",
    "version": 3
   },
   "file_extension": ".py",
   "mimetype": "text/x-python",
   "name": "python",
   "nbconvert_exporter": "python",
   "pygments_lexer": "ipython3",
   "version": "3.7.4"
  }
 },
 "nbformat": 4,
 "nbformat_minor": 2
}
