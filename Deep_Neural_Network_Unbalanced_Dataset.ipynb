{
 "cells": [
  {
   "cell_type": "code",
   "execution_count": 1,
   "metadata": {},
   "outputs": [
    {
     "name": "stderr",
     "output_type": "stream",
     "text": [
      "Using TensorFlow backend.\n"
     ]
    }
   ],
   "source": [
    "import pandas as pd\n",
    "import numpy as np\n",
    "from sklearn.model_selection import train_test_split\n",
    "from sklearn.preprocessing import LabelEncoder, normalize\n",
    "import keras\n",
    "from keras.models import Sequential\n",
    "from keras.layers.advanced_activations import LeakyReLU\n",
    "from keras.layers import Dense, Dropout\n",
    "from keras.metrics import CategoricalAccuracy, TruePositives, TrueNegatives, FalsePositives, FalseNegatives"
   ]
  },
  {
   "cell_type": "code",
   "execution_count": 2,
   "metadata": {},
   "outputs": [],
   "source": [
    "df = pd.read_csv('Cleaned_Dataset.csv')"
   ]
  },
  {
   "cell_type": "code",
   "execution_count": 3,
   "metadata": {},
   "outputs": [],
   "source": [
    "del df['Unnamed: 0']"
   ]
  },
  {
   "cell_type": "code",
   "execution_count": 4,
   "metadata": {},
   "outputs": [
    {
     "data": {
      "text/plain": [
       "(1217007, 21)"
      ]
     },
     "execution_count": 4,
     "metadata": {},
     "output_type": "execute_result"
    }
   ],
   "source": [
    "df.shape"
   ]
  },
  {
   "cell_type": "code",
   "execution_count": 5,
   "metadata": {},
   "outputs": [
    {
     "data": {
      "text/html": [
       "<div>\n",
       "<style scoped>\n",
       "    .dataframe tbody tr th:only-of-type {\n",
       "        vertical-align: middle;\n",
       "    }\n",
       "\n",
       "    .dataframe tbody tr th {\n",
       "        vertical-align: top;\n",
       "    }\n",
       "\n",
       "    .dataframe thead th {\n",
       "        text-align: right;\n",
       "    }\n",
       "</style>\n",
       "<table border=\"1\" class=\"dataframe\">\n",
       "  <thead>\n",
       "    <tr style=\"text-align: right;\">\n",
       "      <th></th>\n",
       "      <th>Source Port</th>\n",
       "      <th>Protocol</th>\n",
       "      <th>Flow Duration</th>\n",
       "      <th>Fwd Packet Length Min</th>\n",
       "      <th>Bwd Packet Length Min</th>\n",
       "      <th>Fwd IAT Total</th>\n",
       "      <th>Bwd IAT Total</th>\n",
       "      <th>Fwd PSH Flags</th>\n",
       "      <th>Fwd Packets/s</th>\n",
       "      <th>Min Packet Length</th>\n",
       "      <th>...</th>\n",
       "      <th>ACK Flag Count</th>\n",
       "      <th>URG Flag Count</th>\n",
       "      <th>CWE Flag Count</th>\n",
       "      <th>Init_Win_bytes_forward</th>\n",
       "      <th>min_seg_size_forward</th>\n",
       "      <th>Idle Mean</th>\n",
       "      <th>Idle Max</th>\n",
       "      <th>Idle Min</th>\n",
       "      <th>Inbound</th>\n",
       "      <th>Label</th>\n",
       "    </tr>\n",
       "  </thead>\n",
       "  <tbody>\n",
       "    <tr>\n",
       "      <td>0</td>\n",
       "      <td>60675</td>\n",
       "      <td>6</td>\n",
       "      <td>5220876</td>\n",
       "      <td>0.0</td>\n",
       "      <td>0.0</td>\n",
       "      <td>215957.0</td>\n",
       "      <td>5220754.0</td>\n",
       "      <td>0</td>\n",
       "      <td>2.298465</td>\n",
       "      <td>0.0</td>\n",
       "      <td>...</td>\n",
       "      <td>1</td>\n",
       "      <td>0</td>\n",
       "      <td>0</td>\n",
       "      <td>65535</td>\n",
       "      <td>32</td>\n",
       "      <td>0.0</td>\n",
       "      <td>0.0</td>\n",
       "      <td>0.0</td>\n",
       "      <td>1</td>\n",
       "      <td>DrDoS_NTP</td>\n",
       "    </tr>\n",
       "    <tr>\n",
       "      <td>1</td>\n",
       "      <td>60676</td>\n",
       "      <td>6</td>\n",
       "      <td>12644252</td>\n",
       "      <td>0.0</td>\n",
       "      <td>0.0</td>\n",
       "      <td>12644252.0</td>\n",
       "      <td>1.0</td>\n",
       "      <td>0</td>\n",
       "      <td>0.395437</td>\n",
       "      <td>0.0</td>\n",
       "      <td>...</td>\n",
       "      <td>1</td>\n",
       "      <td>0</td>\n",
       "      <td>0</td>\n",
       "      <td>65535</td>\n",
       "      <td>32</td>\n",
       "      <td>0.0</td>\n",
       "      <td>0.0</td>\n",
       "      <td>0.0</td>\n",
       "      <td>1</td>\n",
       "      <td>DrDoS_NTP</td>\n",
       "    </tr>\n",
       "    <tr>\n",
       "      <td>2</td>\n",
       "      <td>443</td>\n",
       "      <td>6</td>\n",
       "      <td>3</td>\n",
       "      <td>0.0</td>\n",
       "      <td>0.0</td>\n",
       "      <td>3.0</td>\n",
       "      <td>0.0</td>\n",
       "      <td>0</td>\n",
       "      <td>666666.666667</td>\n",
       "      <td>0.0</td>\n",
       "      <td>...</td>\n",
       "      <td>0</td>\n",
       "      <td>1</td>\n",
       "      <td>0</td>\n",
       "      <td>0</td>\n",
       "      <td>20</td>\n",
       "      <td>0.0</td>\n",
       "      <td>0.0</td>\n",
       "      <td>0.0</td>\n",
       "      <td>1</td>\n",
       "      <td>BENIGN</td>\n",
       "    </tr>\n",
       "    <tr>\n",
       "      <td>3</td>\n",
       "      <td>443</td>\n",
       "      <td>6</td>\n",
       "      <td>3</td>\n",
       "      <td>0.0</td>\n",
       "      <td>0.0</td>\n",
       "      <td>3.0</td>\n",
       "      <td>0.0</td>\n",
       "      <td>0</td>\n",
       "      <td>666666.666667</td>\n",
       "      <td>0.0</td>\n",
       "      <td>...</td>\n",
       "      <td>0</td>\n",
       "      <td>1</td>\n",
       "      <td>0</td>\n",
       "      <td>0</td>\n",
       "      <td>20</td>\n",
       "      <td>0.0</td>\n",
       "      <td>0.0</td>\n",
       "      <td>0.0</td>\n",
       "      <td>1</td>\n",
       "      <td>BENIGN</td>\n",
       "    </tr>\n",
       "    <tr>\n",
       "      <td>4</td>\n",
       "      <td>0</td>\n",
       "      <td>0</td>\n",
       "      <td>114329232</td>\n",
       "      <td>0.0</td>\n",
       "      <td>0.0</td>\n",
       "      <td>114329232.0</td>\n",
       "      <td>0.0</td>\n",
       "      <td>0</td>\n",
       "      <td>0.454827</td>\n",
       "      <td>0.0</td>\n",
       "      <td>...</td>\n",
       "      <td>0</td>\n",
       "      <td>0</td>\n",
       "      <td>0</td>\n",
       "      <td>-1</td>\n",
       "      <td>0</td>\n",
       "      <td>9527428.0</td>\n",
       "      <td>9950741.0</td>\n",
       "      <td>9092248.0</td>\n",
       "      <td>0</td>\n",
       "      <td>BENIGN</td>\n",
       "    </tr>\n",
       "  </tbody>\n",
       "</table>\n",
       "<p>5 rows × 21 columns</p>\n",
       "</div>"
      ],
      "text/plain": [
       "    Source Port   Protocol   Flow Duration   Fwd Packet Length Min  \\\n",
       "0         60675          6         5220876                     0.0   \n",
       "1         60676          6        12644252                     0.0   \n",
       "2           443          6               3                     0.0   \n",
       "3           443          6               3                     0.0   \n",
       "4             0          0       114329232                     0.0   \n",
       "\n",
       "    Bwd Packet Length Min  Fwd IAT Total  Bwd IAT Total  Fwd PSH Flags  \\\n",
       "0                     0.0       215957.0      5220754.0              0   \n",
       "1                     0.0     12644252.0            1.0              0   \n",
       "2                     0.0            3.0            0.0              0   \n",
       "3                     0.0            3.0            0.0              0   \n",
       "4                     0.0    114329232.0            0.0              0   \n",
       "\n",
       "   Fwd Packets/s   Min Packet Length  ...   ACK Flag Count   URG Flag Count  \\\n",
       "0       2.298465                 0.0  ...                1                0   \n",
       "1       0.395437                 0.0  ...                1                0   \n",
       "2  666666.666667                 0.0  ...                0                1   \n",
       "3  666666.666667                 0.0  ...                0                1   \n",
       "4       0.454827                 0.0  ...                0                0   \n",
       "\n",
       "    CWE Flag Count  Init_Win_bytes_forward   min_seg_size_forward  Idle Mean  \\\n",
       "0                0                   65535                     32        0.0   \n",
       "1                0                   65535                     32        0.0   \n",
       "2                0                       0                     20        0.0   \n",
       "3                0                       0                     20        0.0   \n",
       "4                0                      -1                      0  9527428.0   \n",
       "\n",
       "    Idle Max   Idle Min   Inbound      Label  \n",
       "0        0.0        0.0         1  DrDoS_NTP  \n",
       "1        0.0        0.0         1  DrDoS_NTP  \n",
       "2        0.0        0.0         1     BENIGN  \n",
       "3        0.0        0.0         1     BENIGN  \n",
       "4  9950741.0  9092248.0         0     BENIGN  \n",
       "\n",
       "[5 rows x 21 columns]"
      ]
     },
     "execution_count": 5,
     "metadata": {},
     "output_type": "execute_result"
    }
   ],
   "source": [
    "df.head()"
   ]
  },
  {
   "cell_type": "code",
   "execution_count": 6,
   "metadata": {},
   "outputs": [
    {
     "data": {
      "text/plain": [
       "DrDoS_NTP    1202642\n",
       "BENIGN         14365\n",
       "Name:  Label, dtype: int64"
      ]
     },
     "execution_count": 6,
     "metadata": {},
     "output_type": "execute_result"
    }
   ],
   "source": [
    "df[' Label'].value_counts()"
   ]
  },
  {
   "cell_type": "code",
   "execution_count": 8,
   "metadata": {},
   "outputs": [],
   "source": [
    "X = normalize( ( df.loc[:, df.columns != ' Label'] ).values )\n",
    "y = df[' Label']\n",
    "label_encoder = LabelEncoder()\n",
    "y = y.map(lambda value : 0 if value == 'BENIGN' else 1)\n",
    "y = keras.utils.to_categorical(y, num_classes=y.nunique())"
   ]
  },
  {
   "cell_type": "code",
   "execution_count": 10,
   "metadata": {},
   "outputs": [],
   "source": [
    "random_state = 1\n",
    "X_train, X_test, y_train, y_test = train_test_split(X, y, test_size=0.33, shuffle=True, stratify=y, random_state=random_state)"
   ]
  },
  {
   "cell_type": "code",
   "execution_count": 12,
   "metadata": {},
   "outputs": [
    {
     "name": "stdout",
     "output_type": "stream",
     "text": [
      "Baseline: accuracy: 99.75%: loss: 0.727657\n",
      "\tTrue Positive Rate: 0.49874506054335893 (400605.0)\n",
      "\tTrue Negative Rate: 0.49874506054335893 (400605.0)\n",
      "\tFalse Positive Rate: 0.0012549394566410948 (1008.0)\n",
      "\tFalse Negative Rate: 0.0012549394566410948 (1008.0)\n"
     ]
    }
   ],
   "source": [
    "accuracy = CategoricalAccuracy() \n",
    "tp = TruePositives()\n",
    "tn = TrueNegatives()\n",
    "fp = FalsePositives()\n",
    "fn = FalseNegatives()\n",
    "metrics = [accuracy, tp, tn, fp, fn]\n",
    "\n",
    "model = Sequential()\n",
    "model.add(Dense(64, input_shape=(len(df.columns) - 1 ,))) \n",
    "model.add(LeakyReLU(alpha=0.3))\n",
    "model.add(Dense(128))\n",
    "model.add(LeakyReLU(alpha=0.3))\n",
    "model.add(Dense(32))\n",
    "model.add(LeakyReLU(alpha=0.3))\n",
    "model.add(Dense(8))\n",
    "model.add(LeakyReLU(alpha=0.3))\n",
    "model.add(Dense(2, activation='softmax'))\n",
    "\n",
    "model.compile(optimizer='adam', loss='categorical_crossentropy', metrics=metrics)\n",
    "\n",
    "model.fit(x=X_train, y=y_train, epochs=20, batch_size=512, verbose=0, validation_data=(X_test, y_test))\n",
    "\n",
    "scores = model.evaluate(X_test, y_test, verbose=2)\n",
    "acc, loss, tpn, tnn, fpn, fnn = scores[1]*100, scores[0]*100, scores[2], scores[3], scores[4], scores[5]\n",
    "totaln = tpn + tnn + fpn + fnn\n",
    "print('Baseline: accuracy: {:.2f}%: loss: {:2f}'.format(acc, loss))\n",
    "print('\\tTrue Positive Rate: {} ({})'.format(tpn/totaln, tpn))\n",
    "print('\\tTrue Negative Rate: {} ({})'.format(tnn/totaln, tnn))\n",
    "print('\\tFalse Positive Rate: {} ({})'.format(fpn/totaln, fpn))\n",
    "print('\\tFalse Negative Rate: {} ({})'.format(fnn/totaln, fnn))"
   ]
  },
  {
   "cell_type": "code",
   "execution_count": null,
   "metadata": {},
   "outputs": [],
   "source": []
  }
 ],
 "metadata": {
  "kernelspec": {
   "display_name": "Python 3",
   "language": "python",
   "name": "python3"
  },
  "language_info": {
   "codemirror_mode": {
    "name": "ipython",
    "version": 3
   },
   "file_extension": ".py",
   "mimetype": "text/x-python",
   "name": "python",
   "nbconvert_exporter": "python",
   "pygments_lexer": "ipython3",
   "version": "3.7.4"
  }
 },
 "nbformat": 4,
 "nbformat_minor": 2
}
