{
 "cells": [
  {
   "cell_type": "code",
   "execution_count": 1,
   "metadata": {},
   "outputs": [],
   "source": [
    "import pandas as pd\n",
    "import numpy as np"
   ]
  },
  {
   "cell_type": "code",
   "execution_count": 2,
   "metadata": {},
   "outputs": [],
   "source": [
    "df = pd.read_csv('Cleaned_Dataset.csv')"
   ]
  },
  {
   "cell_type": "code",
   "execution_count": 13,
   "metadata": {},
   "outputs": [],
   "source": [
    "del df['Unnamed: 0']"
   ]
  },
  {
   "cell_type": "code",
   "execution_count": 14,
   "metadata": {},
   "outputs": [
    {
     "data": {
      "text/plain": [
       "Index([' Source Port', ' Protocol', ' Flow Duration', ' Fwd Packet Length Min',\n",
       "       ' Bwd Packet Length Min', 'Fwd IAT Total', 'Bwd IAT Total',\n",
       "       'Fwd PSH Flags', 'Fwd Packets/s', ' Min Packet Length',\n",
       "       ' RST Flag Count', ' ACK Flag Count', ' URG Flag Count',\n",
       "       ' CWE Flag Count', 'Init_Win_bytes_forward', ' min_seg_size_forward',\n",
       "       'Idle Mean', ' Idle Max', ' Idle Min', ' Inbound', ' Label'],\n",
       "      dtype='object')"
      ]
     },
     "execution_count": 14,
     "metadata": {},
     "output_type": "execute_result"
    }
   ],
   "source": [
    "df.columns"
   ]
  },
  {
   "cell_type": "code",
   "execution_count": 15,
   "metadata": {},
   "outputs": [
    {
     "data": {
      "text/plain": [
       "BENIGN       14365\n",
       "DrDoS_NTP    14365\n",
       "Name:  Label, dtype: int64"
      ]
     },
     "execution_count": 15,
     "metadata": {},
     "output_type": "execute_result"
    }
   ],
   "source": [
    "df[' Label'].value_counts()"
   ]
  },
  {
   "cell_type": "code",
   "execution_count": 16,
   "metadata": {},
   "outputs": [],
   "source": [
    "DOS_Count_Data = df.loc[df[' Label'] == 'DrDoS_NTP'] \n",
    "BENIGN_Data = df.loc[df[' Label'] == 'BENIGN']"
   ]
  },
  {
   "cell_type": "code",
   "execution_count": 17,
   "metadata": {},
   "outputs": [
    {
     "name": "stdout",
     "output_type": "stream",
     "text": [
      "DrDoS_NTP    14365\n",
      "Name:  Label, dtype: int64\n",
      "BENIGN    14365\n",
      "Name:  Label, dtype: int64\n"
     ]
    }
   ],
   "source": [
    "count = 14365\n",
    "random_state = 1\n",
    "DOS_Count_Data = DOS_Count_Data.sample(count, random_state=random_state)\n",
    "print(DOS_Count_Data[' Label'].value_counts())\n",
    "print(BENIGN_Data[' Label'].value_counts())\n"
   ]
  },
  {
   "cell_type": "code",
   "execution_count": 18,
   "metadata": {},
   "outputs": [],
   "source": [
    "df = pd.concat([DOS_Count_Data, BENIGN_Data])"
   ]
  },
  {
   "cell_type": "code",
   "execution_count": 19,
   "metadata": {},
   "outputs": [
    {
     "data": {
      "text/plain": [
       "BENIGN       14365\n",
       "DrDoS_NTP    14365\n",
       "Name:  Label, dtype: int64"
      ]
     },
     "execution_count": 19,
     "metadata": {},
     "output_type": "execute_result"
    }
   ],
   "source": [
    "df[' Label'].value_counts()"
   ]
  },
  {
   "cell_type": "code",
   "execution_count": 20,
   "metadata": {},
   "outputs": [
    {
     "data": {
      "text/plain": [
       "(28730, 21)"
      ]
     },
     "execution_count": 20,
     "metadata": {},
     "output_type": "execute_result"
    }
   ],
   "source": [
    "df.shape"
   ]
  },
  {
   "cell_type": "code",
   "execution_count": 21,
   "metadata": {},
   "outputs": [
    {
     "data": {
      "text/html": [
       "<div>\n",
       "<style scoped>\n",
       "    .dataframe tbody tr th:only-of-type {\n",
       "        vertical-align: middle;\n",
       "    }\n",
       "\n",
       "    .dataframe tbody tr th {\n",
       "        vertical-align: top;\n",
       "    }\n",
       "\n",
       "    .dataframe thead th {\n",
       "        text-align: right;\n",
       "    }\n",
       "</style>\n",
       "<table border=\"1\" class=\"dataframe\">\n",
       "  <thead>\n",
       "    <tr style=\"text-align: right;\">\n",
       "      <th></th>\n",
       "      <th>Source Port</th>\n",
       "      <th>Protocol</th>\n",
       "      <th>Flow Duration</th>\n",
       "      <th>Fwd Packet Length Min</th>\n",
       "      <th>Bwd Packet Length Min</th>\n",
       "      <th>Fwd IAT Total</th>\n",
       "      <th>Bwd IAT Total</th>\n",
       "      <th>Fwd PSH Flags</th>\n",
       "      <th>Fwd Packets/s</th>\n",
       "      <th>Min Packet Length</th>\n",
       "      <th>...</th>\n",
       "      <th>ACK Flag Count</th>\n",
       "      <th>URG Flag Count</th>\n",
       "      <th>CWE Flag Count</th>\n",
       "      <th>Init_Win_bytes_forward</th>\n",
       "      <th>min_seg_size_forward</th>\n",
       "      <th>Idle Mean</th>\n",
       "      <th>Idle Max</th>\n",
       "      <th>Idle Min</th>\n",
       "      <th>Inbound</th>\n",
       "      <th>Label</th>\n",
       "    </tr>\n",
       "  </thead>\n",
       "  <tbody>\n",
       "    <tr>\n",
       "      <td>162480</td>\n",
       "      <td>947</td>\n",
       "      <td>17</td>\n",
       "      <td>743</td>\n",
       "      <td>440.0</td>\n",
       "      <td>0.0</td>\n",
       "      <td>743.0</td>\n",
       "      <td>0.0</td>\n",
       "      <td>0</td>\n",
       "      <td>156123.822342</td>\n",
       "      <td>440.0</td>\n",
       "      <td>...</td>\n",
       "      <td>0</td>\n",
       "      <td>0</td>\n",
       "      <td>0</td>\n",
       "      <td>-1</td>\n",
       "      <td>8</td>\n",
       "      <td>0.0</td>\n",
       "      <td>0.0</td>\n",
       "      <td>0.0</td>\n",
       "      <td>1</td>\n",
       "      <td>DrDoS_NTP</td>\n",
       "    </tr>\n",
       "    <tr>\n",
       "      <td>918954</td>\n",
       "      <td>526</td>\n",
       "      <td>17</td>\n",
       "      <td>1562</td>\n",
       "      <td>440.0</td>\n",
       "      <td>0.0</td>\n",
       "      <td>1562.0</td>\n",
       "      <td>0.0</td>\n",
       "      <td>0</td>\n",
       "      <td>23047.375160</td>\n",
       "      <td>440.0</td>\n",
       "      <td>...</td>\n",
       "      <td>0</td>\n",
       "      <td>0</td>\n",
       "      <td>0</td>\n",
       "      <td>-1</td>\n",
       "      <td>-1</td>\n",
       "      <td>0.0</td>\n",
       "      <td>0.0</td>\n",
       "      <td>0.0</td>\n",
       "      <td>1</td>\n",
       "      <td>DrDoS_NTP</td>\n",
       "    </tr>\n",
       "    <tr>\n",
       "      <td>685095</td>\n",
       "      <td>516</td>\n",
       "      <td>17</td>\n",
       "      <td>1264</td>\n",
       "      <td>440.0</td>\n",
       "      <td>0.0</td>\n",
       "      <td>1264.0</td>\n",
       "      <td>0.0</td>\n",
       "      <td>0</td>\n",
       "      <td>25316.455696</td>\n",
       "      <td>440.0</td>\n",
       "      <td>...</td>\n",
       "      <td>0</td>\n",
       "      <td>0</td>\n",
       "      <td>0</td>\n",
       "      <td>-1</td>\n",
       "      <td>20</td>\n",
       "      <td>0.0</td>\n",
       "      <td>0.0</td>\n",
       "      <td>0.0</td>\n",
       "      <td>1</td>\n",
       "      <td>DrDoS_NTP</td>\n",
       "    </tr>\n",
       "    <tr>\n",
       "      <td>690568</td>\n",
       "      <td>600</td>\n",
       "      <td>17</td>\n",
       "      <td>196</td>\n",
       "      <td>440.0</td>\n",
       "      <td>0.0</td>\n",
       "      <td>196.0</td>\n",
       "      <td>0.0</td>\n",
       "      <td>0</td>\n",
       "      <td>20408.163265</td>\n",
       "      <td>440.0</td>\n",
       "      <td>...</td>\n",
       "      <td>0</td>\n",
       "      <td>0</td>\n",
       "      <td>0</td>\n",
       "      <td>-1</td>\n",
       "      <td>20</td>\n",
       "      <td>0.0</td>\n",
       "      <td>0.0</td>\n",
       "      <td>0.0</td>\n",
       "      <td>1</td>\n",
       "      <td>DrDoS_NTP</td>\n",
       "    </tr>\n",
       "    <tr>\n",
       "      <td>923414</td>\n",
       "      <td>803</td>\n",
       "      <td>17</td>\n",
       "      <td>1716</td>\n",
       "      <td>440.0</td>\n",
       "      <td>0.0</td>\n",
       "      <td>1716.0</td>\n",
       "      <td>0.0</td>\n",
       "      <td>0</td>\n",
       "      <td>2331.002331</td>\n",
       "      <td>440.0</td>\n",
       "      <td>...</td>\n",
       "      <td>0</td>\n",
       "      <td>0</td>\n",
       "      <td>0</td>\n",
       "      <td>-1</td>\n",
       "      <td>-1</td>\n",
       "      <td>0.0</td>\n",
       "      <td>0.0</td>\n",
       "      <td>0.0</td>\n",
       "      <td>1</td>\n",
       "      <td>DrDoS_NTP</td>\n",
       "    </tr>\n",
       "  </tbody>\n",
       "</table>\n",
       "<p>5 rows × 21 columns</p>\n",
       "</div>"
      ],
      "text/plain": [
       "         Source Port   Protocol   Flow Duration   Fwd Packet Length Min  \\\n",
       "162480           947         17             743                   440.0   \n",
       "918954           526         17            1562                   440.0   \n",
       "685095           516         17            1264                   440.0   \n",
       "690568           600         17             196                   440.0   \n",
       "923414           803         17            1716                   440.0   \n",
       "\n",
       "         Bwd Packet Length Min  Fwd IAT Total  Bwd IAT Total  Fwd PSH Flags  \\\n",
       "162480                     0.0          743.0            0.0              0   \n",
       "918954                     0.0         1562.0            0.0              0   \n",
       "685095                     0.0         1264.0            0.0              0   \n",
       "690568                     0.0          196.0            0.0              0   \n",
       "923414                     0.0         1716.0            0.0              0   \n",
       "\n",
       "        Fwd Packets/s   Min Packet Length  ...   ACK Flag Count  \\\n",
       "162480  156123.822342               440.0  ...                0   \n",
       "918954   23047.375160               440.0  ...                0   \n",
       "685095   25316.455696               440.0  ...                0   \n",
       "690568   20408.163265               440.0  ...                0   \n",
       "923414    2331.002331               440.0  ...                0   \n",
       "\n",
       "         URG Flag Count   CWE Flag Count  Init_Win_bytes_forward  \\\n",
       "162480                0                0                      -1   \n",
       "918954                0                0                      -1   \n",
       "685095                0                0                      -1   \n",
       "690568                0                0                      -1   \n",
       "923414                0                0                      -1   \n",
       "\n",
       "         min_seg_size_forward  Idle Mean   Idle Max   Idle Min   Inbound  \\\n",
       "162480                      8        0.0        0.0        0.0         1   \n",
       "918954                     -1        0.0        0.0        0.0         1   \n",
       "685095                     20        0.0        0.0        0.0         1   \n",
       "690568                     20        0.0        0.0        0.0         1   \n",
       "923414                     -1        0.0        0.0        0.0         1   \n",
       "\n",
       "            Label  \n",
       "162480  DrDoS_NTP  \n",
       "918954  DrDoS_NTP  \n",
       "685095  DrDoS_NTP  \n",
       "690568  DrDoS_NTP  \n",
       "923414  DrDoS_NTP  \n",
       "\n",
       "[5 rows x 21 columns]"
      ]
     },
     "execution_count": 21,
     "metadata": {},
     "output_type": "execute_result"
    }
   ],
   "source": [
    "df.head()"
   ]
  },
  {
   "cell_type": "code",
   "execution_count": 22,
   "metadata": {},
   "outputs": [],
   "source": [
    "df.to_csv('Creating_Balanced_Dataset.csv')"
   ]
  },
  {
   "cell_type": "code",
   "execution_count": null,
   "metadata": {},
   "outputs": [],
   "source": []
  }
 ],
 "metadata": {
  "kernelspec": {
   "display_name": "Python 3",
   "language": "python",
   "name": "python3"
  },
  "language_info": {
   "codemirror_mode": {
    "name": "ipython",
    "version": 3
   },
   "file_extension": ".py",
   "mimetype": "text/x-python",
   "name": "python",
   "nbconvert_exporter": "python",
   "pygments_lexer": "ipython3",
   "version": "3.7.4"
  }
 },
 "nbformat": 4,
 "nbformat_minor": 2
}
